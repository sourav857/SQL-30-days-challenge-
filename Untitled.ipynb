{
 "cells": [
  {
   "cell_type": "code",
   "execution_count": 1,
   "id": "fbce8e79-21a1-4f50-909f-7254fe2abf64",
   "metadata": {},
   "outputs": [
    {
     "name": "stdout",
     "output_type": "stream",
     "text": [
      "hello world\n"
     ]
    }
   ],
   "source": [
    "print(\"hello world\")"
   ]
  },
  {
   "cell_type": "code",
   "execution_count": 2,
   "id": "08eea2cd-6aa9-459e-831a-345b60221cfb",
   "metadata": {},
   "outputs": [],
   "source": [
    "a=2\n",
    "###this is python tutorial\n"
   ]
  },
  {
   "cell_type": "code",
   "execution_count": 3,
   "id": "8228c0c5-ddf4-4315-bf72-0cd27d7ebb7d",
   "metadata": {},
   "outputs": [],
   "source": [
    "###this"
   ]
  },
  {
   "cell_type": "markdown",
   "id": "103d73d5-1179-4187-9ddf-4c3b5e88bdd1",
   "metadata": {},
   "source": [
    "## this is python"
   ]
  },
  {
   "cell_type": "code",
   "execution_count": 4,
   "id": "24d09226-ed26-4daa-8d88-958e8e797149",
   "metadata": {},
   "outputs": [],
   "source": [
    "import numpy as np"
   ]
  },
  {
   "cell_type": "code",
   "execution_count": 5,
   "id": "0400e115-b539-4d9b-8293-bb35427dc129",
   "metadata": {},
   "outputs": [],
   "source": [
    "a=[1,2.1,3]"
   ]
  },
  {
   "cell_type": "code",
   "execution_count": 6,
   "id": "d9528e0c-784a-4369-b3e5-b387f07be119",
   "metadata": {},
   "outputs": [],
   "source": [
    "a=np.array(a)"
   ]
  },
  {
   "cell_type": "code",
   "execution_count": 7,
   "id": "bfff9759-75ca-4f58-8194-5049a7b3a769",
   "metadata": {},
   "outputs": [
    {
     "data": {
      "text/plain": [
       "dtype('float64')"
      ]
     },
     "execution_count": 7,
     "metadata": {},
     "output_type": "execute_result"
    }
   ],
   "source": [
    "a.dtype"
   ]
  },
  {
   "cell_type": "code",
   "execution_count": 8,
   "id": "1e3fec3b-f0fd-4aba-aa62-a0fe54b4b1d4",
   "metadata": {},
   "outputs": [
    {
     "data": {
      "text/plain": [
       "1"
      ]
     },
     "execution_count": 8,
     "metadata": {},
     "output_type": "execute_result"
    }
   ],
   "source": [
    "a.ndim"
   ]
  },
  {
   "cell_type": "code",
   "execution_count": 9,
   "id": "1f9e5019-3f57-4a8f-ab26-bfdba90716cc",
   "metadata": {},
   "outputs": [
    {
     "data": {
      "text/plain": [
       "array([[1, 2, 3],\n",
       "       [4, 5, 6]])"
      ]
     },
     "execution_count": 9,
     "metadata": {},
     "output_type": "execute_result"
    }
   ],
   "source": [
    "a=[[1,2,3],[4,5,6]]\n",
    "a=np.array(a)\n",
    "a"
   ]
  },
  {
   "cell_type": "code",
   "execution_count": 10,
   "id": "d8708ec7-636f-4dc3-befe-d52b5c4a2d3c",
   "metadata": {},
   "outputs": [
    {
     "ename": "NameError",
     "evalue": "name 'array' is not defined",
     "output_type": "error",
     "traceback": [
      "\u001b[1;31m---------------------------------------------------------------------------\u001b[0m",
      "\u001b[1;31mNameError\u001b[0m                                 Traceback (most recent call last)",
      "Cell \u001b[1;32mIn[10], line 1\u001b[0m\n\u001b[1;32m----> 1\u001b[0m \u001b[43marray\u001b[49m\u001b[38;5;241m.\u001b[39mshape\n",
      "\u001b[1;31mNameError\u001b[0m: name 'array' is not defined"
     ]
    }
   ],
   "source": [
    "array.shape"
   ]
  },
  {
   "cell_type": "code",
   "execution_count": 11,
   "id": "58d8e6fa-0af2-4953-aba0-161b984e009c",
   "metadata": {},
   "outputs": [
    {
     "data": {
      "text/plain": [
       "(2, 3)"
      ]
     },
     "execution_count": 11,
     "metadata": {},
     "output_type": "execute_result"
    }
   ],
   "source": [
    "a.shape\n"
   ]
  },
  {
   "cell_type": "code",
   "execution_count": 12,
   "id": "6b287fc7-75e0-4310-a73d-f5e49005ae02",
   "metadata": {},
   "outputs": [
    {
     "data": {
      "text/plain": [
       "dtype('int32')"
      ]
     },
     "execution_count": 12,
     "metadata": {},
     "output_type": "execute_result"
    }
   ],
   "source": [
    "a = [[1,True,3],[4,5,6]]\n",
    "a=np.array(a)\n",
    "a.dtype\n"
   ]
  },
  {
   "cell_type": "code",
   "execution_count": 13,
   "id": "b8b56ebe-84d9-41eb-882f-ce4528f98631",
   "metadata": {},
   "outputs": [
    {
     "data": {
      "text/plain": [
       "(2, 3)"
      ]
     },
     "execution_count": 13,
     "metadata": {},
     "output_type": "execute_result"
    }
   ],
   "source": [
    "a.shape"
   ]
  },
  {
   "cell_type": "code",
   "execution_count": 14,
   "id": "9523f77d-b8c8-49cc-87c6-134f212df61d",
   "metadata": {},
   "outputs": [
    {
     "ename": "AttributeError",
     "evalue": "'builtin_function_or_method' object has no attribute 'size'",
     "output_type": "error",
     "traceback": [
      "\u001b[1;31m---------------------------------------------------------------------------\u001b[0m",
      "\u001b[1;31mAttributeError\u001b[0m                            Traceback (most recent call last)",
      "Cell \u001b[1;32mIn[14], line 2\u001b[0m\n\u001b[0;32m      1\u001b[0m a \u001b[38;5;241m=\u001b[39m [[\u001b[38;5;241m1\u001b[39m,\u001b[38;5;241m2\u001b[39m,\u001b[38;5;241m3\u001b[39m],[\u001b[38;5;241m4\u001b[39m,\u001b[38;5;241m5\u001b[39m,\u001b[38;5;241m6\u001b[39m],[\u001b[38;5;241m7\u001b[39m,\u001b[38;5;241m8\u001b[39m,\u001b[38;5;241m9\u001b[39m]]\n\u001b[1;32m----> 2\u001b[0m a\u001b[38;5;241m=\u001b[39m\u001b[43mnp\u001b[49m\u001b[38;5;241;43m.\u001b[39;49m\u001b[43marray\u001b[49m\u001b[38;5;241;43m.\u001b[39;49m\u001b[43msize\u001b[49m\n\u001b[0;32m      3\u001b[0m a\n",
      "\u001b[1;31mAttributeError\u001b[0m: 'builtin_function_or_method' object has no attribute 'size'"
     ]
    }
   ],
   "source": [
    "a = [[1,2,3],[4,5,6],[7,8,9]]\n",
    "a=np.array.size\n",
    "a"
   ]
  },
  {
   "cell_type": "code",
   "execution_count": 15,
   "id": "63ceb841-2aea-41f7-a956-fe9079704dc1",
   "metadata": {},
   "outputs": [
    {
     "data": {
      "text/plain": [
       "array([[1, 2, 3],\n",
       "       [4, 5, 6],\n",
       "       [7, 8, 9]])"
      ]
     },
     "execution_count": 15,
     "metadata": {},
     "output_type": "execute_result"
    }
   ],
   "source": [
    "a = [[1,2,3],[4,5,6],[7,8,9]]\n",
    "a=np.array(a)\n",
    "a"
   ]
  },
  {
   "cell_type": "code",
   "execution_count": 16,
   "id": "e5017cc7-e7d1-4c91-acb0-106ac03825e4",
   "metadata": {},
   "outputs": [
    {
     "ename": "NameError",
     "evalue": "name 'array' is not defined",
     "output_type": "error",
     "traceback": [
      "\u001b[1;31m---------------------------------------------------------------------------\u001b[0m",
      "\u001b[1;31mNameError\u001b[0m                                 Traceback (most recent call last)",
      "Cell \u001b[1;32mIn[16], line 1\u001b[0m\n\u001b[1;32m----> 1\u001b[0m \u001b[43marray\u001b[49m\u001b[38;5;241m.\u001b[39mshape\n",
      "\u001b[1;31mNameError\u001b[0m: name 'array' is not defined"
     ]
    }
   ],
   "source": [
    "array.shape"
   ]
  },
  {
   "cell_type": "code",
   "execution_count": 17,
   "id": "1d973fdc-5303-43a9-b77b-f848d20a2c41",
   "metadata": {},
   "outputs": [
    {
     "data": {
      "text/plain": [
       "(3, 3)"
      ]
     },
     "execution_count": 17,
     "metadata": {},
     "output_type": "execute_result"
    }
   ],
   "source": [
    "a.shape"
   ]
  },
  {
   "cell_type": "code",
   "execution_count": 18,
   "id": "d524504c-daf9-4ffd-b6d8-d8898fc1cc5e",
   "metadata": {},
   "outputs": [
    {
     "data": {
      "text/plain": [
       "9"
      ]
     },
     "execution_count": 18,
     "metadata": {},
     "output_type": "execute_result"
    }
   ],
   "source": [
    "a[2,2]"
   ]
  },
  {
   "cell_type": "code",
   "execution_count": 19,
   "id": "a41a5b57-1222-4479-a1b0-2791a71e024d",
   "metadata": {},
   "outputs": [
    {
     "data": {
      "text/plain": [
       "array([[2, 3]])"
      ]
     },
     "execution_count": 19,
     "metadata": {},
     "output_type": "execute_result"
    }
   ],
   "source": [
    "a[0:1,1:3]"
   ]
  },
  {
   "cell_type": "code",
   "execution_count": 20,
   "id": "a5a48304-db24-4a50-80bb-76cc286b2bc7",
   "metadata": {},
   "outputs": [
    {
     "ename": "TypeError",
     "evalue": "Cannot interpret '4' as a data type",
     "output_type": "error",
     "traceback": [
      "\u001b[1;31m---------------------------------------------------------------------------\u001b[0m",
      "\u001b[1;31mTypeError\u001b[0m                                 Traceback (most recent call last)",
      "Cell \u001b[1;32mIn[20], line 1\u001b[0m\n\u001b[1;32m----> 1\u001b[0m new\u001b[38;5;241m=\u001b[39m\u001b[43mnp\u001b[49m\u001b[38;5;241;43m.\u001b[39;49m\u001b[43marray\u001b[49m\u001b[43m(\u001b[49m\u001b[38;5;241;43m3\u001b[39;49m\u001b[43m,\u001b[49m\u001b[38;5;241;43m4\u001b[39;49m\u001b[43m)\u001b[49m\n",
      "\u001b[1;31mTypeError\u001b[0m: Cannot interpret '4' as a data type"
     ]
    }
   ],
   "source": [
    "new=np.array(3,4)"
   ]
  },
  {
   "cell_type": "code",
   "execution_count": 21,
   "id": "fa3b381a-d36e-4911-a70f-dedc081a1766",
   "metadata": {},
   "outputs": [],
   "source": [
    "digits=np.random.rand(3,4)"
   ]
  },
  {
   "cell_type": "code",
   "execution_count": 22,
   "id": "e338f2be-b50a-456c-bcc9-2a4f7a4c78fa",
   "metadata": {},
   "outputs": [
    {
     "data": {
      "text/plain": [
       "array([[0.6669907 , 0.14557564, 0.58794494, 0.40730154],\n",
       "       [0.55825546, 0.10033161, 0.20112708, 0.40684587],\n",
       "       [0.97452395, 0.68281807, 0.28977857, 0.99448865]])"
      ]
     },
     "execution_count": 22,
     "metadata": {},
     "output_type": "execute_result"
    }
   ],
   "source": [
    "digits"
   ]
  },
  {
   "cell_type": "code",
   "execution_count": null,
   "id": "ab5121f1-4a16-49ae-83fc-c903a9c0345d",
   "metadata": {},
   "outputs": [],
   "source": [
    "import numpy as np"
   ]
  },
  {
   "cell_type": "code",
   "execution_count": 23,
   "id": "8b785798-3297-4c17-94b4-9a194561ee42",
   "metadata": {},
   "outputs": [],
   "source": [
    "new_array=np.random.randint(1,11)"
   ]
  },
  {
   "cell_type": "code",
   "execution_count": 24,
   "id": "b67b91c7-3ea0-490e-b3da-b00aa32b0921",
   "metadata": {},
   "outputs": [
    {
     "data": {
      "text/plain": [
       "5"
      ]
     },
     "execution_count": 24,
     "metadata": {},
     "output_type": "execute_result"
    }
   ],
   "source": [
    "new_array"
   ]
  },
  {
   "cell_type": "code",
   "execution_count": 25,
   "id": "32b9deda-ef46-4576-86ae-3e459dc16579",
   "metadata": {},
   "outputs": [],
   "source": [
    "new_array=np.random.randint(1,11,(3,4))"
   ]
  },
  {
   "cell_type": "code",
   "execution_count": 26,
   "id": "b11fee1d-6e7c-49ea-b9b3-e7cdf8a10463",
   "metadata": {},
   "outputs": [
    {
     "data": {
      "text/plain": [
       "array([[ 6,  6,  3, 10],\n",
       "       [ 5,  9, 10,  5],\n",
       "       [ 1,  8,  6,  9]])"
      ]
     },
     "execution_count": 26,
     "metadata": {},
     "output_type": "execute_result"
    }
   ],
   "source": [
    "new_array"
   ]
  },
  {
   "cell_type": "markdown",
   "id": "73e01d3f-7da5-4f9e-832d-8f9b18ae3c34",
   "metadata": {},
   "source": [
    "# Find the maximum value in the array created in step 1."
   ]
  },
  {
   "cell_type": "code",
   "execution_count": 27,
   "id": "160a88ca-5987-49fc-aae6-1f80e79a3dff",
   "metadata": {},
   "outputs": [
    {
     "ename": "ValueError",
     "evalue": "The truth value of an array with more than one element is ambiguous. Use a.any() or a.all()",
     "output_type": "error",
     "traceback": [
      "\u001b[1;31m---------------------------------------------------------------------------\u001b[0m",
      "\u001b[1;31mValueError\u001b[0m                                Traceback (most recent call last)",
      "Cell \u001b[1;32mIn[27], line 1\u001b[0m\n\u001b[1;32m----> 1\u001b[0m new_array\u001b[38;5;241m=\u001b[39m\u001b[38;5;28;43mmax\u001b[39;49m\u001b[43m(\u001b[49m\u001b[43mnew_array\u001b[49m\u001b[43m)\u001b[49m\n",
      "\u001b[1;31mValueError\u001b[0m: The truth value of an array with more than one element is ambiguous. Use a.any() or a.all()"
     ]
    }
   ],
   "source": [
    "new_array=max(new_array)"
   ]
  },
  {
   "cell_type": "code",
   "execution_count": 28,
   "id": "22e3fcd7-6b8e-4f61-82f4-1bd89a080025",
   "metadata": {},
   "outputs": [],
   "source": [
    "new_array=np.max(new_array)"
   ]
  },
  {
   "cell_type": "code",
   "execution_count": 29,
   "id": "665e2452-839b-4114-932e-c57a4c2635eb",
   "metadata": {},
   "outputs": [
    {
     "data": {
      "text/plain": [
       "10"
      ]
     },
     "execution_count": 29,
     "metadata": {},
     "output_type": "execute_result"
    }
   ],
   "source": [
    "new_array"
   ]
  },
  {
   "cell_type": "code",
   "execution_count": 30,
   "id": "8b916bb3-bd96-438e-91c5-5b7890d61646",
   "metadata": {},
   "outputs": [
    {
     "ename": "SyntaxError",
     "evalue": "invalid syntax (1156650119.py, line 1)",
     "output_type": "error",
     "traceback": [
      "\u001b[1;36m  Cell \u001b[1;32mIn[30], line 1\u001b[1;36m\u001b[0m\n\u001b[1;33m    3- Calculate the mean value of each row in the array.\u001b[0m\n\u001b[1;37m                 ^\u001b[0m\n\u001b[1;31mSyntaxError\u001b[0m\u001b[1;31m:\u001b[0m invalid syntax\n"
     ]
    }
   ],
   "source": [
    "3- Calculate the mean value of each row in the array.\n",
    "b=np.array(3,4)"
   ]
  },
  {
   "cell_type": "code",
   "execution_count": 31,
   "id": "75a4c19b-be90-4f9f-a01a-7eca821f77cb",
   "metadata": {},
   "outputs": [
    {
     "ename": "TypeError",
     "evalue": "Cannot interpret '4' as a data type",
     "output_type": "error",
     "traceback": [
      "\u001b[1;31m---------------------------------------------------------------------------\u001b[0m",
      "\u001b[1;31mTypeError\u001b[0m                                 Traceback (most recent call last)",
      "Cell \u001b[1;32mIn[31], line 1\u001b[0m\n\u001b[1;32m----> 1\u001b[0m b\u001b[38;5;241m=\u001b[39m\u001b[43mnp\u001b[49m\u001b[38;5;241;43m.\u001b[39;49m\u001b[43marray\u001b[49m\u001b[43m(\u001b[49m\u001b[38;5;241;43m3\u001b[39;49m\u001b[43m,\u001b[49m\u001b[38;5;241;43m4\u001b[39;49m\u001b[43m)\u001b[49m\n",
      "\u001b[1;31mTypeError\u001b[0m: Cannot interpret '4' as a data type"
     ]
    }
   ],
   "source": [
    "b=np.array(3,4)"
   ]
  },
  {
   "cell_type": "code",
   "execution_count": 32,
   "id": "d06ebbfa-8f7f-4291-b1f1-c5903c8cd181",
   "metadata": {},
   "outputs": [
    {
     "ename": "AttributeError",
     "evalue": "module 'numpy' has no attribute 'b'",
     "output_type": "error",
     "traceback": [
      "\u001b[1;31m---------------------------------------------------------------------------\u001b[0m",
      "\u001b[1;31mAttributeError\u001b[0m                            Traceback (most recent call last)",
      "Cell \u001b[1;32mIn[32], line 1\u001b[0m\n\u001b[1;32m----> 1\u001b[0m b\u001b[38;5;241m=\u001b[39m\u001b[43mnp\u001b[49m\u001b[38;5;241;43m.\u001b[39;49m\u001b[43mb\u001b[49m(\u001b[38;5;241m3\u001b[39m,\u001b[38;5;241m4\u001b[39m)\n",
      "File \u001b[1;32m~\\AppData\\Local\\Programs\\Python\\Python312\\Lib\\site-packages\\numpy\\__init__.py:347\u001b[0m, in \u001b[0;36m__getattr__\u001b[1;34m(attr)\u001b[0m\n\u001b[0;32m    344\u001b[0m     \u001b[38;5;124m\"\u001b[39m\u001b[38;5;124mRemoved in NumPy 1.25.0\u001b[39m\u001b[38;5;124m\"\u001b[39m\n\u001b[0;32m    345\u001b[0m     \u001b[38;5;28;01mraise\u001b[39;00m \u001b[38;5;167;01mRuntimeError\u001b[39;00m(\u001b[38;5;124m\"\u001b[39m\u001b[38;5;124mTester was removed in NumPy 1.25.\u001b[39m\u001b[38;5;124m\"\u001b[39m)\n\u001b[1;32m--> 347\u001b[0m \u001b[38;5;28;01mraise\u001b[39;00m \u001b[38;5;167;01mAttributeError\u001b[39;00m(\u001b[38;5;124m\"\u001b[39m\u001b[38;5;124mmodule \u001b[39m\u001b[38;5;132;01m{!r}\u001b[39;00m\u001b[38;5;124m has no attribute \u001b[39m\u001b[38;5;124m\"\u001b[39m\n\u001b[0;32m    348\u001b[0m                      \u001b[38;5;124m\"\u001b[39m\u001b[38;5;132;01m{!r}\u001b[39;00m\u001b[38;5;124m\"\u001b[39m\u001b[38;5;241m.\u001b[39mformat(\u001b[38;5;18m__name__\u001b[39m, attr))\n",
      "\u001b[1;31mAttributeError\u001b[0m: module 'numpy' has no attribute 'b'"
     ]
    }
   ],
   "source": [
    "b=np.b(3,4)"
   ]
  },
  {
   "cell_type": "code",
   "execution_count": 33,
   "id": "0f7c82de-1a5e-4c12-af1c-593d6ce161ca",
   "metadata": {},
   "outputs": [
    {
     "ename": "TypeError",
     "evalue": "Cannot interpret '4' as a data type",
     "output_type": "error",
     "traceback": [
      "\u001b[1;31m---------------------------------------------------------------------------\u001b[0m",
      "\u001b[1;31mTypeError\u001b[0m                                 Traceback (most recent call last)",
      "Cell \u001b[1;32mIn[33], line 1\u001b[0m\n\u001b[1;32m----> 1\u001b[0m b\u001b[38;5;241m=\u001b[39m\u001b[43mnp\u001b[49m\u001b[38;5;241;43m.\u001b[39;49m\u001b[43marray\u001b[49m\u001b[43m(\u001b[49m\u001b[38;5;241;43m3\u001b[39;49m\u001b[43m,\u001b[49m\u001b[38;5;241;43m4\u001b[39;49m\u001b[43m)\u001b[49m\n",
      "\u001b[1;31mTypeError\u001b[0m: Cannot interpret '4' as a data type"
     ]
    }
   ],
   "source": [
    "b=np.array(3,4)"
   ]
  },
  {
   "cell_type": "code",
   "execution_count": 34,
   "id": "8f81ed8d-99cc-442a-99f9-5865361e7cbc",
   "metadata": {},
   "outputs": [
    {
     "ename": "TypeError",
     "evalue": "mean() missing 1 required positional argument: 'a'",
     "output_type": "error",
     "traceback": [
      "\u001b[1;31m---------------------------------------------------------------------------\u001b[0m",
      "\u001b[1;31mTypeError\u001b[0m                                 Traceback (most recent call last)",
      "Cell \u001b[1;32mIn[34], line 1\u001b[0m\n\u001b[1;32m----> 1\u001b[0m new_array\u001b[38;5;241m=\u001b[39m\u001b[43mnp\u001b[49m\u001b[38;5;241;43m.\u001b[39;49m\u001b[43mmean\u001b[49m\u001b[43m(\u001b[49m\u001b[43maxis\u001b[49m\u001b[38;5;241;43m=\u001b[39;49m\u001b[38;5;241;43m1\u001b[39;49m\u001b[43m)\u001b[49m\n",
      "\u001b[1;31mTypeError\u001b[0m: mean() missing 1 required positional argument: 'a'"
     ]
    }
   ],
   "source": [
    "new_array=np.mean(axis=1)"
   ]
  },
  {
   "cell_type": "code",
   "execution_count": 35,
   "id": "7e10cfcf-60b1-4730-8a40-7a04ba96abde",
   "metadata": {},
   "outputs": [
    {
     "ename": "AxisError",
     "evalue": "axis 1 is out of bounds for array of dimension 0",
     "output_type": "error",
     "traceback": [
      "\u001b[1;31m---------------------------------------------------------------------------\u001b[0m",
      "\u001b[1;31mAxisError\u001b[0m                                 Traceback (most recent call last)",
      "Cell \u001b[1;32mIn[35], line 1\u001b[0m\n\u001b[1;32m----> 1\u001b[0m new_array\u001b[38;5;241m=\u001b[39m\u001b[43mnp\u001b[49m\u001b[38;5;241;43m.\u001b[39;49m\u001b[43mmean\u001b[49m\u001b[43m(\u001b[49m\u001b[43mnew_array\u001b[49m\u001b[43m,\u001b[49m\u001b[43maxis\u001b[49m\u001b[38;5;241;43m=\u001b[39;49m\u001b[38;5;241;43m1\u001b[39;49m\u001b[43m)\u001b[49m\n",
      "File \u001b[1;32m~\\AppData\\Local\\Programs\\Python\\Python312\\Lib\\site-packages\\numpy\\core\\fromnumeric.py:3502\u001b[0m, in \u001b[0;36mmean\u001b[1;34m(a, axis, dtype, out, keepdims, where)\u001b[0m\n\u001b[0;32m   3500\u001b[0m         \u001b[38;5;28;01mpass\u001b[39;00m\n\u001b[0;32m   3501\u001b[0m     \u001b[38;5;28;01melse\u001b[39;00m:\n\u001b[1;32m-> 3502\u001b[0m         \u001b[38;5;28;01mreturn\u001b[39;00m \u001b[43mmean\u001b[49m\u001b[43m(\u001b[49m\u001b[43maxis\u001b[49m\u001b[38;5;241;43m=\u001b[39;49m\u001b[43maxis\u001b[49m\u001b[43m,\u001b[49m\u001b[43m \u001b[49m\u001b[43mdtype\u001b[49m\u001b[38;5;241;43m=\u001b[39;49m\u001b[43mdtype\u001b[49m\u001b[43m,\u001b[49m\u001b[43m \u001b[49m\u001b[43mout\u001b[49m\u001b[38;5;241;43m=\u001b[39;49m\u001b[43mout\u001b[49m\u001b[43m,\u001b[49m\u001b[43m \u001b[49m\u001b[38;5;241;43m*\u001b[39;49m\u001b[38;5;241;43m*\u001b[39;49m\u001b[43mkwargs\u001b[49m\u001b[43m)\u001b[49m\n\u001b[0;32m   3504\u001b[0m \u001b[38;5;28;01mreturn\u001b[39;00m _methods\u001b[38;5;241m.\u001b[39m_mean(a, axis\u001b[38;5;241m=\u001b[39maxis, dtype\u001b[38;5;241m=\u001b[39mdtype,\n\u001b[0;32m   3505\u001b[0m                       out\u001b[38;5;241m=\u001b[39mout, \u001b[38;5;241m*\u001b[39m\u001b[38;5;241m*\u001b[39mkwargs)\n",
      "File \u001b[1;32m~\\AppData\\Local\\Programs\\Python\\Python312\\Lib\\site-packages\\numpy\\core\\_methods.py:106\u001b[0m, in \u001b[0;36m_mean\u001b[1;34m(a, axis, dtype, out, keepdims, where)\u001b[0m\n\u001b[0;32m    102\u001b[0m arr \u001b[38;5;241m=\u001b[39m asanyarray(a)\n\u001b[0;32m    104\u001b[0m is_float16_result \u001b[38;5;241m=\u001b[39m \u001b[38;5;28;01mFalse\u001b[39;00m\n\u001b[1;32m--> 106\u001b[0m rcount \u001b[38;5;241m=\u001b[39m \u001b[43m_count_reduce_items\u001b[49m\u001b[43m(\u001b[49m\u001b[43marr\u001b[49m\u001b[43m,\u001b[49m\u001b[43m \u001b[49m\u001b[43maxis\u001b[49m\u001b[43m,\u001b[49m\u001b[43m \u001b[49m\u001b[43mkeepdims\u001b[49m\u001b[38;5;241;43m=\u001b[39;49m\u001b[43mkeepdims\u001b[49m\u001b[43m,\u001b[49m\u001b[43m \u001b[49m\u001b[43mwhere\u001b[49m\u001b[38;5;241;43m=\u001b[39;49m\u001b[43mwhere\u001b[49m\u001b[43m)\u001b[49m\n\u001b[0;32m    107\u001b[0m \u001b[38;5;28;01mif\u001b[39;00m rcount \u001b[38;5;241m==\u001b[39m \u001b[38;5;241m0\u001b[39m \u001b[38;5;28;01mif\u001b[39;00m where \u001b[38;5;129;01mis\u001b[39;00m \u001b[38;5;28;01mTrue\u001b[39;00m \u001b[38;5;28;01melse\u001b[39;00m umr_any(rcount \u001b[38;5;241m==\u001b[39m \u001b[38;5;241m0\u001b[39m, axis\u001b[38;5;241m=\u001b[39m\u001b[38;5;28;01mNone\u001b[39;00m):\n\u001b[0;32m    108\u001b[0m     warnings\u001b[38;5;241m.\u001b[39mwarn(\u001b[38;5;124m\"\u001b[39m\u001b[38;5;124mMean of empty slice.\u001b[39m\u001b[38;5;124m\"\u001b[39m, \u001b[38;5;167;01mRuntimeWarning\u001b[39;00m, stacklevel\u001b[38;5;241m=\u001b[39m\u001b[38;5;241m2\u001b[39m)\n",
      "File \u001b[1;32m~\\AppData\\Local\\Programs\\Python\\Python312\\Lib\\site-packages\\numpy\\core\\_methods.py:77\u001b[0m, in \u001b[0;36m_count_reduce_items\u001b[1;34m(arr, axis, keepdims, where)\u001b[0m\n\u001b[0;32m     75\u001b[0m     items \u001b[38;5;241m=\u001b[39m \u001b[38;5;241m1\u001b[39m\n\u001b[0;32m     76\u001b[0m     \u001b[38;5;28;01mfor\u001b[39;00m ax \u001b[38;5;129;01min\u001b[39;00m axis:\n\u001b[1;32m---> 77\u001b[0m         items \u001b[38;5;241m*\u001b[39m\u001b[38;5;241m=\u001b[39m arr\u001b[38;5;241m.\u001b[39mshape[\u001b[43mmu\u001b[49m\u001b[38;5;241;43m.\u001b[39;49m\u001b[43mnormalize_axis_index\u001b[49m\u001b[43m(\u001b[49m\u001b[43max\u001b[49m\u001b[43m,\u001b[49m\u001b[43m \u001b[49m\u001b[43marr\u001b[49m\u001b[38;5;241;43m.\u001b[39;49m\u001b[43mndim\u001b[49m\u001b[43m)\u001b[49m]\n\u001b[0;32m     78\u001b[0m     items \u001b[38;5;241m=\u001b[39m nt\u001b[38;5;241m.\u001b[39mintp(items)\n\u001b[0;32m     79\u001b[0m \u001b[38;5;28;01melse\u001b[39;00m:\n\u001b[0;32m     80\u001b[0m     \u001b[38;5;66;03m# TODO: Optimize case when `where` is broadcast along a non-reduction\u001b[39;00m\n\u001b[0;32m     81\u001b[0m     \u001b[38;5;66;03m# axis and full sum is more excessive than needed.\u001b[39;00m\n\u001b[0;32m     82\u001b[0m \n\u001b[0;32m     83\u001b[0m     \u001b[38;5;66;03m# guarded to protect circular imports\u001b[39;00m\n",
      "\u001b[1;31mAxisError\u001b[0m: axis 1 is out of bounds for array of dimension 0"
     ]
    }
   ],
   "source": [
    "new_array=np.mean(new_array,axis=1)"
   ]
  },
  {
   "cell_type": "code",
   "execution_count": 36,
   "id": "009c76d8-f7f3-4217-96c5-5211791393e5",
   "metadata": {},
   "outputs": [],
   "source": [
    "new_array=np.random.randint(1,11,(3,4))"
   ]
  },
  {
   "cell_type": "code",
   "execution_count": 37,
   "id": "0762e313-3a00-4ce9-89fb-5bcebfc15824",
   "metadata": {},
   "outputs": [
    {
     "data": {
      "text/plain": [
       "array([[ 6,  4,  6,  4],\n",
       "       [ 4,  9, 10,  4],\n",
       "       [ 4,  4,  2,  3]])"
      ]
     },
     "execution_count": 37,
     "metadata": {},
     "output_type": "execute_result"
    }
   ],
   "source": [
    "new_array"
   ]
  },
  {
   "cell_type": "code",
   "execution_count": 38,
   "id": "01ad24d8-9b67-4cb2-b2e4-c11dc78a32a6",
   "metadata": {},
   "outputs": [],
   "source": [
    "new_array=np.mean(new_array,axis=1)"
   ]
  },
  {
   "cell_type": "code",
   "execution_count": 39,
   "id": "aa95534a-5b8d-4b2b-9548-be28b340e074",
   "metadata": {},
   "outputs": [
    {
     "data": {
      "text/plain": [
       "array([5.  , 6.75, 3.25])"
      ]
     },
     "execution_count": 39,
     "metadata": {},
     "output_type": "execute_result"
    }
   ],
   "source": [
    "new_array"
   ]
  },
  {
   "cell_type": "code",
   "execution_count": 40,
   "id": "39c3c6ae-d0b3-4109-9463-4cac9951cfa9",
   "metadata": {},
   "outputs": [
    {
     "ename": "ValueError",
     "evalue": "cannot reshape array of size 1 into shape (6,)",
     "output_type": "error",
     "traceback": [
      "\u001b[1;31m---------------------------------------------------------------------------\u001b[0m",
      "\u001b[1;31mValueError\u001b[0m                                Traceback (most recent call last)",
      "Cell \u001b[1;32mIn[40], line 3\u001b[0m\n\u001b[0;32m      1\u001b[0m \u001b[38;5;66;03m# Reshape the array from step 1 into a shape of (2, 6).\u001b[39;00m\n\u001b[0;32m      2\u001b[0m new_array\u001b[38;5;241m=\u001b[39mnp\u001b[38;5;241m.\u001b[39mrandom\u001b[38;5;241m.\u001b[39mrandint(\u001b[38;5;241m1\u001b[39m,\u001b[38;5;241m11\u001b[39m,(\u001b[38;5;241m3\u001b[39m,\u001b[38;5;241m4\u001b[39m))\n\u001b[1;32m----> 3\u001b[0m b\u001b[38;5;241m=\u001b[39m\u001b[43mnp\u001b[49m\u001b[38;5;241;43m.\u001b[39;49m\u001b[43mreshape\u001b[49m\u001b[43m(\u001b[49m\u001b[38;5;241;43m2\u001b[39;49m\u001b[43m,\u001b[49m\u001b[38;5;241;43m6\u001b[39;49m\u001b[43m)\u001b[49m\n",
      "File \u001b[1;32m~\\AppData\\Local\\Programs\\Python\\Python312\\Lib\\site-packages\\numpy\\core\\fromnumeric.py:285\u001b[0m, in \u001b[0;36mreshape\u001b[1;34m(a, newshape, order)\u001b[0m\n\u001b[0;32m    200\u001b[0m \u001b[38;5;129m@array_function_dispatch\u001b[39m(_reshape_dispatcher)\n\u001b[0;32m    201\u001b[0m \u001b[38;5;28;01mdef\u001b[39;00m \u001b[38;5;21mreshape\u001b[39m(a, newshape, order\u001b[38;5;241m=\u001b[39m\u001b[38;5;124m'\u001b[39m\u001b[38;5;124mC\u001b[39m\u001b[38;5;124m'\u001b[39m):\n\u001b[0;32m    202\u001b[0m \u001b[38;5;250m    \u001b[39m\u001b[38;5;124;03m\"\"\"\u001b[39;00m\n\u001b[0;32m    203\u001b[0m \u001b[38;5;124;03m    Gives a new shape to an array without changing its data.\u001b[39;00m\n\u001b[0;32m    204\u001b[0m \n\u001b[1;32m   (...)\u001b[0m\n\u001b[0;32m    283\u001b[0m \u001b[38;5;124;03m           [5, 6]])\u001b[39;00m\n\u001b[0;32m    284\u001b[0m \u001b[38;5;124;03m    \"\"\"\u001b[39;00m\n\u001b[1;32m--> 285\u001b[0m     \u001b[38;5;28;01mreturn\u001b[39;00m \u001b[43m_wrapfunc\u001b[49m\u001b[43m(\u001b[49m\u001b[43ma\u001b[49m\u001b[43m,\u001b[49m\u001b[43m \u001b[49m\u001b[38;5;124;43m'\u001b[39;49m\u001b[38;5;124;43mreshape\u001b[39;49m\u001b[38;5;124;43m'\u001b[39;49m\u001b[43m,\u001b[49m\u001b[43m \u001b[49m\u001b[43mnewshape\u001b[49m\u001b[43m,\u001b[49m\u001b[43m \u001b[49m\u001b[43morder\u001b[49m\u001b[38;5;241;43m=\u001b[39;49m\u001b[43morder\u001b[49m\u001b[43m)\u001b[49m\n",
      "File \u001b[1;32m~\\AppData\\Local\\Programs\\Python\\Python312\\Lib\\site-packages\\numpy\\core\\fromnumeric.py:56\u001b[0m, in \u001b[0;36m_wrapfunc\u001b[1;34m(obj, method, *args, **kwds)\u001b[0m\n\u001b[0;32m     54\u001b[0m bound \u001b[38;5;241m=\u001b[39m \u001b[38;5;28mgetattr\u001b[39m(obj, method, \u001b[38;5;28;01mNone\u001b[39;00m)\n\u001b[0;32m     55\u001b[0m \u001b[38;5;28;01mif\u001b[39;00m bound \u001b[38;5;129;01mis\u001b[39;00m \u001b[38;5;28;01mNone\u001b[39;00m:\n\u001b[1;32m---> 56\u001b[0m     \u001b[38;5;28;01mreturn\u001b[39;00m \u001b[43m_wrapit\u001b[49m\u001b[43m(\u001b[49m\u001b[43mobj\u001b[49m\u001b[43m,\u001b[49m\u001b[43m \u001b[49m\u001b[43mmethod\u001b[49m\u001b[43m,\u001b[49m\u001b[43m \u001b[49m\u001b[38;5;241;43m*\u001b[39;49m\u001b[43margs\u001b[49m\u001b[43m,\u001b[49m\u001b[43m \u001b[49m\u001b[38;5;241;43m*\u001b[39;49m\u001b[38;5;241;43m*\u001b[39;49m\u001b[43mkwds\u001b[49m\u001b[43m)\u001b[49m\n\u001b[0;32m     58\u001b[0m \u001b[38;5;28;01mtry\u001b[39;00m:\n\u001b[0;32m     59\u001b[0m     \u001b[38;5;28;01mreturn\u001b[39;00m bound(\u001b[38;5;241m*\u001b[39margs, \u001b[38;5;241m*\u001b[39m\u001b[38;5;241m*\u001b[39mkwds)\n",
      "File \u001b[1;32m~\\AppData\\Local\\Programs\\Python\\Python312\\Lib\\site-packages\\numpy\\core\\fromnumeric.py:45\u001b[0m, in \u001b[0;36m_wrapit\u001b[1;34m(obj, method, *args, **kwds)\u001b[0m\n\u001b[0;32m     43\u001b[0m \u001b[38;5;28;01mexcept\u001b[39;00m \u001b[38;5;167;01mAttributeError\u001b[39;00m:\n\u001b[0;32m     44\u001b[0m     wrap \u001b[38;5;241m=\u001b[39m \u001b[38;5;28;01mNone\u001b[39;00m\n\u001b[1;32m---> 45\u001b[0m result \u001b[38;5;241m=\u001b[39m \u001b[38;5;28;43mgetattr\u001b[39;49m\u001b[43m(\u001b[49m\u001b[43masarray\u001b[49m\u001b[43m(\u001b[49m\u001b[43mobj\u001b[49m\u001b[43m)\u001b[49m\u001b[43m,\u001b[49m\u001b[43m \u001b[49m\u001b[43mmethod\u001b[49m\u001b[43m)\u001b[49m\u001b[43m(\u001b[49m\u001b[38;5;241;43m*\u001b[39;49m\u001b[43margs\u001b[49m\u001b[43m,\u001b[49m\u001b[43m \u001b[49m\u001b[38;5;241;43m*\u001b[39;49m\u001b[38;5;241;43m*\u001b[39;49m\u001b[43mkwds\u001b[49m\u001b[43m)\u001b[49m\n\u001b[0;32m     46\u001b[0m \u001b[38;5;28;01mif\u001b[39;00m wrap:\n\u001b[0;32m     47\u001b[0m     \u001b[38;5;28;01mif\u001b[39;00m \u001b[38;5;129;01mnot\u001b[39;00m \u001b[38;5;28misinstance\u001b[39m(result, mu\u001b[38;5;241m.\u001b[39mndarray):\n",
      "\u001b[1;31mValueError\u001b[0m: cannot reshape array of size 1 into shape (6,)"
     ]
    }
   ],
   "source": [
    "# Reshape the array from step 1 into a shape of (2, 6).\n",
    "new_array=np.random.randint(1,11,(3,4))\n",
    "b=np.reshape(2,6)"
   ]
  },
  {
   "cell_type": "code",
   "execution_count": 41,
   "id": "fd140e52-030e-4baf-b8d0-ce06bbbcb687",
   "metadata": {},
   "outputs": [],
   "source": [
    "new_array=np.random.randint(1,11,(3,4))\n",
    "b=np.reshape(new_array,(2,6))"
   ]
  },
  {
   "cell_type": "code",
   "execution_count": 42,
   "id": "aafd25c2-d1f6-4e39-b82d-95745de657c2",
   "metadata": {},
   "outputs": [
    {
     "data": {
      "text/plain": [
       "array([[ 5, 10, 10,  6,  4,  6],\n",
       "       [ 4,  7,  4,  8, 10,  1]])"
      ]
     },
     "execution_count": 42,
     "metadata": {},
     "output_type": "execute_result"
    }
   ],
   "source": [
    "b"
   ]
  },
  {
   "cell_type": "code",
   "execution_count": 43,
   "id": "eef4c0f6-c914-4c35-b552-2d76d27bb9a9",
   "metadata": {},
   "outputs": [],
   "source": [
    "#- Multiply each element in the array by 2.\n",
    "new_array=np.random.randint(1,11,(3,4))\n"
   ]
  },
  {
   "cell_type": "code",
   "execution_count": 44,
   "id": "5175c518-a636-4bc9-98ff-57f52f997580",
   "metadata": {},
   "outputs": [],
   "source": [
    "new_array=new_array*2"
   ]
  },
  {
   "cell_type": "code",
   "execution_count": 45,
   "id": "22fd47f1-fb91-405b-bbd1-042b07a31ca4",
   "metadata": {},
   "outputs": [
    {
     "data": {
      "text/plain": [
       "array([[14, 14,  2, 18],\n",
       "       [ 8, 20, 10,  4],\n",
       "       [10,  8,  6, 18]])"
      ]
     },
     "execution_count": 45,
     "metadata": {},
     "output_type": "execute_result"
    }
   ],
   "source": [
    "new_array"
   ]
  },
  {
   "cell_type": "code",
   "execution_count": 46,
   "id": "e2dae886-c23c-415f-883f-55870789f4df",
   "metadata": {},
   "outputs": [],
   "source": [
    "#- Create a numpy array with values ranging from 0 to 9. Extract the odd numbers from the array."
   ]
  },
  {
   "cell_type": "code",
   "execution_count": 47,
   "id": "5e47a70c-0b51-4fb1-aad5-d647d9ae4bb8",
   "metadata": {},
   "outputs": [],
   "source": [
    "b=np.random.randint(1,11,(3,4))"
   ]
  },
  {
   "cell_type": "code",
   "execution_count": 48,
   "id": "79423350-134e-42f6-b186-360ff3f12878",
   "metadata": {},
   "outputs": [
    {
     "data": {
      "text/plain": [
       "array([[1, 8, 4, 4],\n",
       "       [9, 9, 2, 2],\n",
       "       [2, 6, 9, 1]])"
      ]
     },
     "execution_count": 48,
     "metadata": {},
     "output_type": "execute_result"
    }
   ],
   "source": [
    "b"
   ]
  },
  {
   "cell_type": "code",
   "execution_count": 49,
   "id": "7291debd-b208-4373-b57e-efd0338d8922",
   "metadata": {},
   "outputs": [],
   "source": [
    "b=np.random.randint(0,10,(3,4))"
   ]
  },
  {
   "cell_type": "code",
   "execution_count": 50,
   "id": "05eb36c6-e840-4493-b30f-0aef7eeb1bd6",
   "metadata": {},
   "outputs": [
    {
     "data": {
      "text/plain": [
       "array([[9, 2, 3, 2],\n",
       "       [8, 2, 0, 9],\n",
       "       [6, 6, 6, 5]])"
      ]
     },
     "execution_count": 50,
     "metadata": {},
     "output_type": "execute_result"
    }
   ],
   "source": [
    "b"
   ]
  },
  {
   "cell_type": "code",
   "execution_count": 52,
   "id": "74178707-e682-405d-9dcc-e162f49ce736",
   "metadata": {},
   "outputs": [
    {
     "data": {
      "text/plain": [
       "array([[ True, False,  True, False],\n",
       "       [False, False, False,  True],\n",
       "       [False, False, False,  True]])"
      ]
     },
     "execution_count": 52,
     "metadata": {},
     "output_type": "execute_result"
    }
   ],
   "source": [
    "b%2!=0"
   ]
  },
  {
   "cell_type": "code",
   "execution_count": 54,
   "id": "3fbaa2c0-51aa-40c6-ba35-d8b899043102",
   "metadata": {},
   "outputs": [
    {
     "data": {
      "text/plain": [
       "array([9, 3, 9, 5])"
      ]
     },
     "execution_count": 54,
     "metadata": {},
     "output_type": "execute_result"
    }
   ],
   "source": [
    "b[b%2!=0]"
   ]
  },
  {
   "cell_type": "code",
   "execution_count": 55,
   "id": "0377a4fb-e43f-4d9c-bd9f-d918ec96ce83",
   "metadata": {},
   "outputs": [],
   "source": [
    "#- Create a 3x3 identity matrix using numpy."
   ]
  },
  {
   "cell_type": "code",
   "execution_count": 59,
   "id": "48e80741-49db-4f2c-ba32-7c99ffa90af5",
   "metadata": {},
   "outputs": [],
   "source": [
    "b=np.identity(3,dtype='int32')"
   ]
  },
  {
   "cell_type": "code",
   "execution_count": 60,
   "id": "d43aa404-ba36-4da8-8f79-f59635196690",
   "metadata": {},
   "outputs": [
    {
     "data": {
      "text/plain": [
       "array([[1, 0, 0],\n",
       "       [0, 1, 0],\n",
       "       [0, 0, 1]])"
      ]
     },
     "execution_count": 60,
     "metadata": {},
     "output_type": "execute_result"
    }
   ],
   "source": [
    "b"
   ]
  },
  {
   "cell_type": "code",
   "execution_count": 61,
   "id": "609d458c-84c0-40b3-beb4-c7e720e39707",
   "metadata": {},
   "outputs": [
    {
     "name": "stdout",
     "output_type": "stream",
     "text": [
      "<U6\n"
     ]
    }
   ],
   "source": [
    "arr = np.array(['apple', 'banana', 'cherry'])\n",
    "\n",
    "print(arr.dtype)"
   ]
  },
  {
   "cell_type": "code",
   "execution_count": 62,
   "id": "b884fc0d-1feb-403e-aa99-190a42eb4c1c",
   "metadata": {},
   "outputs": [],
   "source": [
    "# create a 5x5 array with random values and normalize it (subtract the mean and divide by the standard deviation of the array).\n"
   ]
  },
  {
   "cell_type": "code",
   "execution_count": 68,
   "id": "86bf0698-78fc-4003-8965-11da79762204",
   "metadata": {},
   "outputs": [],
   "source": [
    "b=np.random.randn(5,5)"
   ]
  },
  {
   "cell_type": "code",
   "execution_count": 67,
   "id": "aec59749-32aa-41b1-9c5e-caf8c8148fd2",
   "metadata": {},
   "outputs": [
    {
     "data": {
      "text/plain": [
       "array([[ 2.10483006, -0.07388191, -0.79299542,  0.63822903,  0.84721253],\n",
       "       [-0.16816071, -0.10905703,  0.82646021, -0.02902158, -1.4506303 ],\n",
       "       [ 1.08365791, -0.05587789, -2.0178199 , -1.79102754, -2.36129921],\n",
       "       [ 0.32082612, -0.24882642,  0.4345832 , -1.77459389,  0.29291342],\n",
       "       [ 0.37186627, -0.39154722, -0.87611389,  0.04922931, -0.15247309]])"
      ]
     },
     "execution_count": 67,
     "metadata": {},
     "output_type": "execute_result"
    }
   ],
   "source": [
    "b"
   ]
  },
  {
   "cell_type": "code",
   "execution_count": 73,
   "id": "c6db9ca6-c5d9-43c2-882d-e320d6419730",
   "metadata": {},
   "outputs": [],
   "source": [
    "np_mean=np.mean(b)\n",
    "np_sd=np.std(b)\n"
   ]
  },
  {
   "cell_type": "code",
   "execution_count": 75,
   "id": "9b6cd1a7-9c5b-4cc8-885f-3ec60df80a7b",
   "metadata": {},
   "outputs": [
    {
     "data": {
      "text/plain": [
       "-0.19973143666956378"
      ]
     },
     "execution_count": 75,
     "metadata": {},
     "output_type": "execute_result"
    }
   ],
   "source": [
    "np_mean\n"
   ]
  },
  {
   "cell_type": "code",
   "execution_count": 76,
   "id": "9e15b0c3-1fdb-4b13-9692-2a5b770f69b0",
   "metadata": {},
   "outputs": [
    {
     "data": {
      "text/plain": [
       "0.84141803665781"
      ]
     },
     "execution_count": 76,
     "metadata": {},
     "output_type": "execute_result"
    }
   ],
   "source": [
    "np_sd"
   ]
  },
  {
   "cell_type": "code",
   "execution_count": 78,
   "id": "578d5289-a55a-449e-8bc7-e5d58eb668a9",
   "metadata": {},
   "outputs": [
    {
     "data": {
      "text/plain": [
       "array([[ 0.55960113, -1.84676944, -0.12633411, -1.09337121, -0.05631373],\n",
       "       [ 1.84941208,  1.40694198, -1.02338533,  0.40211185, -0.23334164],\n",
       "       [ 0.59818026, -0.94100596, -0.4865875 ,  0.65585595,  0.95265988],\n",
       "       [-1.72029092, -0.98084182, -0.05350483, -0.04500301,  1.47971807],\n",
       "       [ 0.16910619, -0.05661535,  1.85083696, -0.30480049, -0.95625902]])"
      ]
     },
     "execution_count": 78,
     "metadata": {},
     "output_type": "execute_result"
    }
   ],
   "source": [
    "(b-np_mean)/np_sd"
   ]
  },
  {
   "cell_type": "code",
   "execution_count": 79,
   "id": "698519bf-aeee-4e0c-8fa4-1cb2e2e6804a",
   "metadata": {},
   "outputs": [],
   "source": [
    "#- Perform element-wise multiplication between two arrays of the same shape.\n"
   ]
  },
  {
   "cell_type": "code",
   "execution_count": 80,
   "id": "8da704cc-46cf-402c-94fd-1ad42e1f2a2d",
   "metadata": {},
   "outputs": [],
   "source": [
    "a=np.random.randint(1,11,(3,4))"
   ]
  },
  {
   "cell_type": "code",
   "execution_count": 81,
   "id": "071137a3-40e0-42ed-b369-a3f13d67983b",
   "metadata": {},
   "outputs": [
    {
     "data": {
      "text/plain": [
       "array([[5, 7, 6, 9],\n",
       "       [8, 3, 8, 1],\n",
       "       [8, 4, 6, 3]])"
      ]
     },
     "execution_count": 81,
     "metadata": {},
     "output_type": "execute_result"
    }
   ],
   "source": [
    "a"
   ]
  },
  {
   "cell_type": "code",
   "execution_count": 82,
   "id": "1f626c3b-4ea3-414c-8769-3d092bc15bb8",
   "metadata": {},
   "outputs": [],
   "source": [
    "b=np.random.randint(1,11,(3,4))"
   ]
  },
  {
   "cell_type": "code",
   "execution_count": 83,
   "id": "d72571d1-8c14-4612-a570-1d7b0b53b775",
   "metadata": {},
   "outputs": [
    {
     "data": {
      "text/plain": [
       "array([[9, 9, 3, 9],\n",
       "       [1, 3, 7, 7],\n",
       "       [7, 5, 6, 3]])"
      ]
     },
     "execution_count": 83,
     "metadata": {},
     "output_type": "execute_result"
    }
   ],
   "source": [
    "b"
   ]
  },
  {
   "cell_type": "code",
   "execution_count": 84,
   "id": "2c1f737c-9a48-4fea-be8e-b9c5e307e8bf",
   "metadata": {},
   "outputs": [],
   "source": [
    "result=a*b"
   ]
  },
  {
   "cell_type": "code",
   "execution_count": 85,
   "id": "a7993839-9d2e-45ff-98ce-4923ac94fcca",
   "metadata": {},
   "outputs": [
    {
     "data": {
      "text/plain": [
       "array([[45, 63, 18, 81],\n",
       "       [ 8,  9, 56,  7],\n",
       "       [56, 20, 36,  9]])"
      ]
     },
     "execution_count": 85,
     "metadata": {},
     "output_type": "execute_result"
    }
   ],
   "source": [
    "result"
   ]
  },
  {
   "cell_type": "code",
   "execution_count": 86,
   "id": "2ef47152-f4cf-41a2-8cef-835f5cbeaeb4",
   "metadata": {},
   "outputs": [],
   "source": [
    "#Given an array of heights in centimeters, convert them to inches (1 inch = 2.54 cm)."
   ]
  },
  {
   "cell_type": "code",
   "execution_count": 87,
   "id": "5d3efef1-a357-4f00-b88e-91dd994dc8af",
   "metadata": {},
   "outputs": [],
   "source": [
    "c=np.array([1,2,34,5])"
   ]
  },
  {
   "cell_type": "code",
   "execution_count": 88,
   "id": "4504c39e-58af-4981-9121-e5e60c9b8300",
   "metadata": {},
   "outputs": [
    {
     "data": {
      "text/plain": [
       "array([ 1,  2, 34,  5])"
      ]
     },
     "execution_count": 88,
     "metadata": {},
     "output_type": "execute_result"
    }
   ],
   "source": [
    "c"
   ]
  },
  {
   "cell_type": "code",
   "execution_count": 90,
   "id": "d0113f60-ce77-450e-9752-407bd829cd51",
   "metadata": {},
   "outputs": [
    {
     "data": {
      "text/plain": [
       "array([ 0.39370079,  0.78740157, 13.38582677,  1.96850394])"
      ]
     },
     "execution_count": 90,
     "metadata": {},
     "output_type": "execute_result"
    }
   ],
   "source": [
    "c/2.54"
   ]
  },
  {
   "cell_type": "code",
   "execution_count": 91,
   "id": "56bda0b4-7043-44d6-bdbc-4ba365c47ff3",
   "metadata": {},
   "outputs": [],
   "source": [
    "#- Create a 1D array of numbers from 0 to 9. Replace all odd numbers with -1"
   ]
  },
  {
   "cell_type": "code",
   "execution_count": 94,
   "id": "bc6eca79-08cf-4cc2-ad8a-2f4b1922b9c6",
   "metadata": {},
   "outputs": [],
   "source": [
    "a=np.random.randint(0,9,(1,10))"
   ]
  },
  {
   "cell_type": "code",
   "execution_count": 95,
   "id": "d53070eb-29b1-4e92-9d77-af0b98da055f",
   "metadata": {},
   "outputs": [
    {
     "data": {
      "text/plain": [
       "array([[2, 8, 4, 1, 5, 7, 4, 0, 0, 1]])"
      ]
     },
     "execution_count": 95,
     "metadata": {},
     "output_type": "execute_result"
    }
   ],
   "source": [
    "a"
   ]
  },
  {
   "cell_type": "code",
   "execution_count": 96,
   "id": "81bc00ba-dd40-45a3-8a63-f17ae036ac90",
   "metadata": {},
   "outputs": [],
   "source": [
    "arr = np.arange(10) #give numbers from 0-10"
   ]
  },
  {
   "cell_type": "code",
   "execution_count": 97,
   "id": "a45bfbcc-6649-4d07-9515-6cd95e247037",
   "metadata": {},
   "outputs": [
    {
     "data": {
      "text/plain": [
       "array([0, 1, 2, 3, 4, 5, 6, 7, 8, 9])"
      ]
     },
     "execution_count": 97,
     "metadata": {},
     "output_type": "execute_result"
    }
   ],
   "source": [
    "arr"
   ]
  },
  {
   "cell_type": "code",
   "execution_count": 104,
   "id": "45c07b32-601a-4e37-baf2-d97b419c9d60",
   "metadata": {},
   "outputs": [],
   "source": [
    "arr[arr%2!=0]=-1"
   ]
  },
  {
   "cell_type": "code",
   "execution_count": 103,
   "id": "e61c822a-df16-46b5-a1ad-8588da257d8e",
   "metadata": {},
   "outputs": [
    {
     "data": {
      "text/plain": [
       "array([ 0, -1, -1, -1, -1, -1, -1, -1, -1, -1])"
      ]
     },
     "execution_count": 103,
     "metadata": {},
     "output_type": "execute_result"
    }
   ],
   "source": [
    "arr"
   ]
  },
  {
   "cell_type": "code",
   "execution_count": 105,
   "id": "41008c68-112e-4b5e-8bd6-15d33fef2ffd",
   "metadata": {},
   "outputs": [],
   "source": [
    "arr[arr%2!=0]=-1"
   ]
  },
  {
   "cell_type": "code",
   "execution_count": 106,
   "id": "a940340b-31b0-4663-8eac-ddef79c73d1a",
   "metadata": {},
   "outputs": [
    {
     "data": {
      "text/plain": [
       "array([ 0, -1, -1, -1, -1, -1, -1, -1, -1, -1])"
      ]
     },
     "execution_count": 106,
     "metadata": {},
     "output_type": "execute_result"
    }
   ],
   "source": [
    "arr"
   ]
  },
  {
   "cell_type": "code",
   "execution_count": 107,
   "id": "fefa18c1-d815-4a50-a37f-6f630e109e57",
   "metadata": {},
   "outputs": [],
   "source": [
    "import numpy as np\n",
    "\n",
    "# Create a 1D array of numbers from 0 to 9\n",
    "arr = np.arange(10)\n",
    "\n",
    "# Replace odd numbers with -1\n",
    "arr[arr % 2 != 0] = -1\n",
    "\n"
   ]
  },
  {
   "cell_type": "code",
   "execution_count": 108,
   "id": "b0e1c270-e939-4e86-9f7e-30c1db8c11dd",
   "metadata": {},
   "outputs": [
    {
     "data": {
      "text/plain": [
       "array([ 0, -1,  2, -1,  4, -1,  6, -1,  8, -1])"
      ]
     },
     "execution_count": 108,
     "metadata": {},
     "output_type": "execute_result"
    }
   ],
   "source": [
    "arr"
   ]
  },
  {
   "cell_type": "code",
   "execution_count": 109,
   "id": "1bd9da06-abd0-4119-9a5a-fda359430960",
   "metadata": {},
   "outputs": [],
   "source": [
    "b=np.arange(10)"
   ]
  },
  {
   "cell_type": "code",
   "execution_count": 110,
   "id": "e25c405e-7f6d-45df-9e8b-a3e743f74d3d",
   "metadata": {},
   "outputs": [
    {
     "data": {
      "text/plain": [
       "array([0, 1, 2, 3, 4, 5, 6, 7, 8, 9])"
      ]
     },
     "execution_count": 110,
     "metadata": {},
     "output_type": "execute_result"
    }
   ],
   "source": [
    "b"
   ]
  },
  {
   "cell_type": "code",
   "execution_count": 111,
   "id": "8c77d4f0-d9fa-481a-9196-83abeecfeab8",
   "metadata": {},
   "outputs": [],
   "source": [
    "b[b%2!=0]=-1"
   ]
  },
  {
   "cell_type": "code",
   "execution_count": 112,
   "id": "55d819bf-3853-429d-a5b9-65d58fc6b96d",
   "metadata": {},
   "outputs": [
    {
     "data": {
      "text/plain": [
       "array([ 0, -1,  2, -1,  4, -1,  6, -1,  8, -1])"
      ]
     },
     "execution_count": 112,
     "metadata": {},
     "output_type": "execute_result"
    }
   ],
   "source": [
    "b"
   ]
  },
  {
   "cell_type": "code",
   "execution_count": 113,
   "id": "611689de-68c2-4e01-b291-5452f01b4a64",
   "metadata": {},
   "outputs": [],
   "source": [
    "#- Create a 2D array with random values and find the indices of the maximum and minimum values."
   ]
  },
  {
   "cell_type": "code",
   "execution_count": 114,
   "id": "1b820abd-df20-4dfb-8f9c-a9d131b1e8f3",
   "metadata": {},
   "outputs": [],
   "source": [
    "c=np.random.randint(1,11,(2,2))"
   ]
  },
  {
   "cell_type": "code",
   "execution_count": 115,
   "id": "9ae6f756-0380-4cfa-8520-102f3d8f17e5",
   "metadata": {},
   "outputs": [],
   "source": [
    "c=np.random.randn(3,4)"
   ]
  },
  {
   "cell_type": "code",
   "execution_count": 116,
   "id": "68467b67-b9c7-4dba-a24d-ae2504be4103",
   "metadata": {},
   "outputs": [
    {
     "data": {
      "text/plain": [
       "array([[ 0.51131765,  1.54858606,  0.06471426, -1.52884507],\n",
       "       [ 0.24017655,  0.31783019,  0.12635808,  1.59317401],\n",
       "       [-0.93635681, -1.39660882, -0.3557717 , -0.08854122]])"
      ]
     },
     "execution_count": 116,
     "metadata": {},
     "output_type": "execute_result"
    }
   ],
   "source": [
    "c"
   ]
  },
  {
   "cell_type": "code",
   "execution_count": 117,
   "id": "c73bbe86-6d93-4269-9042-8f7923fab587",
   "metadata": {},
   "outputs": [],
   "source": [
    "m=np.max(c)"
   ]
  },
  {
   "cell_type": "code",
   "execution_count": 118,
   "id": "c8d55007-040b-4bcd-9ff6-7b585cfcf21a",
   "metadata": {},
   "outputs": [
    {
     "data": {
      "text/plain": [
       "1.5931740051945462"
      ]
     },
     "execution_count": 118,
     "metadata": {},
     "output_type": "execute_result"
    }
   ],
   "source": [
    "m"
   ]
  },
  {
   "cell_type": "code",
   "execution_count": 119,
   "id": "6dbc85bc-b042-4b9d-9cc8-784cf8b106ca",
   "metadata": {},
   "outputs": [
    {
     "ename": "IndexError",
     "evalue": "only integers, slices (`:`), ellipsis (`...`), numpy.newaxis (`None`) and integer or boolean arrays are valid indices",
     "output_type": "error",
     "traceback": [
      "\u001b[1;31m---------------------------------------------------------------------------\u001b[0m",
      "\u001b[1;31mIndexError\u001b[0m                                Traceback (most recent call last)",
      "Cell \u001b[1;32mIn[119], line 1\u001b[0m\n\u001b[1;32m----> 1\u001b[0m \u001b[43mc\u001b[49m\u001b[43m[\u001b[49m\u001b[43mnp\u001b[49m\u001b[38;5;241;43m.\u001b[39;49m\u001b[43mmax\u001b[49m\u001b[43m(\u001b[49m\u001b[43mc\u001b[49m\u001b[43m)\u001b[49m\u001b[43m]\u001b[49m\n",
      "\u001b[1;31mIndexError\u001b[0m: only integers, slices (`:`), ellipsis (`...`), numpy.newaxis (`None`) and integer or boolean arrays are valid indices"
     ]
    }
   ],
   "source": [
    "c[np.max(c)]"
   ]
  },
  {
   "cell_type": "code",
   "execution_count": null,
   "id": "b2915d38-356e-4a68-9a38-fd301360d74e",
   "metadata": {},
   "outputs": [],
   "source": []
  }
 ],
 "metadata": {
  "kernelspec": {
   "display_name": "Python 3 (ipykernel)",
   "language": "python",
   "name": "python3"
  },
  "language_info": {
   "codemirror_mode": {
    "name": "ipython",
    "version": 3
   },
   "file_extension": ".py",
   "mimetype": "text/x-python",
   "name": "python",
   "nbconvert_exporter": "python",
   "pygments_lexer": "ipython3",
   "version": "3.12.2"
  }
 },
 "nbformat": 4,
 "nbformat_minor": 5
}
