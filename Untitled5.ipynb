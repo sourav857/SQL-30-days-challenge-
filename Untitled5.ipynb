{
 "cells": [
  {
   "cell_type": "code",
   "execution_count": 1,
   "id": "dafa248f-a3c9-434f-ae81-828fef894a9c",
   "metadata": {},
   "outputs": [],
   "source": [
    "import pandas as pd"
   ]
  },
  {
   "cell_type": "code",
   "execution_count": null,
   "id": "c51d4ab7-9159-4f1b-a0f7-d61a9e2a69ca",
   "metadata": {},
   "outputs": [],
   "source": [
    "import sqlalchemcy as sal"
   ]
  },
  {
   "cell_type": "code",
   "execution_count": null,
   "id": "f701faa2-554e-46b7-95e1-a3c6b53ab214",
   "metadata": {},
   "outputs": [],
   "source": []
  }
 ],
 "metadata": {
  "kernelspec": {
   "display_name": "Python 3 (ipykernel)",
   "language": "python",
   "name": "python3"
  },
  "language_info": {
   "codemirror_mode": {
    "name": "ipython",
    "version": 3
   },
   "file_extension": ".py",
   "mimetype": "text/x-python",
   "name": "python",
   "nbconvert_exporter": "python",
   "pygments_lexer": "ipython3",
   "version": "3.12.2"
  }
 },
 "nbformat": 4,
 "nbformat_minor": 5
}
